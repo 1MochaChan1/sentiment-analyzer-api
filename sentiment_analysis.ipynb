{
 "cells": [
  {
   "cell_type": "markdown",
   "metadata": {},
   "source": [
    "_This is based on this [tutorial.](https://www.youtube.com/watch?v=szczpgOEdXs)_\n",
    "> [NOTE]\n",
    "> This model only checks for the headings inside the blog, because of tokenizations limits which is 521 (roughly translates to 2500 chars / 400 words)"
   ]
  },
  {
   "cell_type": "markdown",
   "metadata": {},
   "source": [
    "#### Importing Dependencies"
   ]
  },
  {
   "cell_type": "code",
   "execution_count": 13,
   "metadata": {},
   "outputs": [],
   "source": [
    "import bs4, requests # Data Scraping\n",
    "import pandas as pd # CSV Access\n",
    "from transformers import AutoTokenizer, AutoModelForSequenceClassification # BERT model\n",
    "import torch # functions for sentiment analysis\n",
    "import re # For regex"
   ]
  },
  {
   "cell_type": "markdown",
   "metadata": {},
   "source": [
    "#### Getting the Blog Content from a Link"
   ]
  },
  {
   "cell_type": "code",
   "execution_count": 14,
   "metadata": {},
   "outputs": [
    {
     "name": "stdout",
     "output_type": "stream",
     "text": [
      "Legal Challenges at the Intersection of Fashion & Technology CATEGORIES Overview: The Modern-History of Fashion & Technology The Rise of Wearable Technology in Fashion Emerging Data Privacy Concerns in Wearable Tech Industry Breached Data Security Third-party Assist Informed Consent Legal Jurisdiction Legal Framework for Data Privacy  Consumer Privacy Laws Data Security Standards  Data Ownership & Portability Conclusion FAQs: Recommended Reads The Icebreaker Generation Z: Key Strategies For Recruiting and Retaining Generation Z in the Workplace The Gut-Brain Axis: How Does It Work? Tips for Law Graduates Before Starting a Career in Law Understanding Imposter Syndrome Among Successful Women Star Rating Know an impactful story? Please fill your details here:\n"
     ]
    }
   ],
   "source": [
    "def get_blog_content(link:str) -> str:\n",
    "    try:\n",
    "        res = requests.get(link).text\n",
    "        soup = bs4.BeautifulSoup(res)\n",
    "        paras = ' '.join([x.text for x in soup.findAll(re.compile(\"^h[1-6]$\"))])\n",
    "        \n",
    "        paras = paras.replace('\\t','').replace('\\n','').replace(',','')\n",
    "        return str(paras).strip()\n",
    "    except Exception as e:\n",
    "        print(e)\n",
    "\n",
    "link='https://girlpowertalk.com/legal-issues-surrounding-wearable-tech-in-the-modern-era/'\n",
    "blog_data = get_blog_content(link)\n",
    "print(blog_data)"
   ]
  },
  {
   "cell_type": "markdown",
   "metadata": {},
   "source": [
    "#### Scraping Data to create the Data Set. (OPTIONAL)"
   ]
  },
  {
   "cell_type": "code",
   "execution_count": null,
   "metadata": {},
   "outputs": [],
   "source": [
    "df = pd.read_csv('file_name.csv', index_col=0)\n",
    "df['content'] = ''\n",
    "new_df = []\n",
    "url_col='URL'\n",
    "\n",
    "\n",
    "for _, row in df.iterrows():\n",
    "    link = row[url_col]\n",
    "    content = get_blog_content(link)\n",
    "    row['content'] = content\n",
    "    new_df.append(row.to_dict())\n",
    "    drame = pd.DataFrame(new_df)\n",
    "    drame.to_csv('results.csv')"
   ]
  },
  {
   "cell_type": "markdown",
   "metadata": {},
   "source": [
    "#### Instantiating Tokenizer and Model"
   ]
  },
  {
   "cell_type": "code",
   "execution_count": null,
   "metadata": {},
   "outputs": [],
   "source": [
    "tokenizer = AutoTokenizer.from_pretrained('nlptown/bert-base-multilingual-uncased-sentiment')\n",
    "model = AutoModelForSequenceClassification.from_pretrained('nlptown/bert-base-multilingual-uncased-sentiment')"
   ]
  },
  {
   "cell_type": "markdown",
   "metadata": {},
   "source": [
    "#### Calculating Sentiment and Returning Result"
   ]
  },
  {
   "cell_type": "code",
   "execution_count": null,
   "metadata": {},
   "outputs": [],
   "source": [
    "tokens=tokenizer.encode('This guy has been accused for DUI and Money Laundering', return_tensors='pt')\n",
    "\n",
    "res = model(tokens)\n",
    "verdict = 'NEGATIVE' if int(torch.argmax(res.logits))+1 < 3 else 'POSITIVE'"
   ]
  }
 ],
 "metadata": {
  "kernelspec": {
   "display_name": "env",
   "language": "python",
   "name": "python3"
  },
  "language_info": {
   "codemirror_mode": {
    "name": "ipython",
    "version": 3
   },
   "file_extension": ".py",
   "mimetype": "text/x-python",
   "name": "python",
   "nbconvert_exporter": "python",
   "pygments_lexer": "ipython3",
   "version": "3.11.1"
  }
 },
 "nbformat": 4,
 "nbformat_minor": 2
}
